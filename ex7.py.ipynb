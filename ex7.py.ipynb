{
 "cells": [
  {
   "cell_type": "code",
   "execution_count": 1,
   "metadata": {},
   "outputs": [
    {
     "name": "stdout",
     "output_type": "stream",
     "text": [
      "Mary and little lamb.\n",
      "Its fleece was white as snow\n",
      "And everywhere that Mary went.\n",
      "..........\n",
      "Cheese Burger\n"
     ]
    }
   ],
   "source": [
    "#Chapter 7 Exercise\n",
    "\n",
    "#declare print command\n",
    "print(\"Mary and little lamb.\")\n",
    "\n",
    "#declare print command using formatted string\n",
    "print(\"Its fleece was white as {}\".format('snow'))\n",
    "\n",
    "#declare print command\n",
    "print(\"And everywhere that Mary went.\")\n",
    "\n",
    "#print \".\" ten times to make a dotted line\n",
    "print(\".\" * 10) #what'd that do? - It will multiply and display \".\" 10 times\n",
    "\n",
    "#declare a string variable C\n",
    "end1 = \"C\"\n",
    "#declare a string variable h\n",
    "end2 = \"h\"\n",
    "#declare variable e\n",
    "end3 = \"e\"\n",
    "#declare a string variable e\n",
    "end4 = \"e\"\n",
    "#declare a string variable s\n",
    "end5 = \"s\"\n",
    "#declare a string variable e\n",
    "end6 = \"e\"\n",
    "#declare a string variable B\n",
    "end7 = \"B\"\n",
    "#declare a string variable u\n",
    "end8 = \"u\"\n",
    "#declare a string variable r\n",
    "end9 = \"r\"\n",
    "#declare a string variable g\n",
    "end10 = \"g\"\n",
    "#declare a string variable e\n",
    "end11 = \"e\"\n",
    "#declare a string variable r\n",
    "end12 = \"r\"\n",
    "\n",
    "#print variables and comma after end6 has been used to keep previous line with new one, whre two inverted commas are used\n",
    "# for space between first and second print values.\n",
    "print(end1 + end2 + end3 + end4 + end5 + end6, end = ' ')\n",
    "print(end7 + end8 + end9 + end10 + end11 + end12)\n"
   ]
  },
  {
   "cell_type": "code",
   "execution_count": null,
   "metadata": {},
   "outputs": [],
   "source": [
    "#Study Drill - More Printing\n",
    "\n",
    "#1. Go back through and write a comment on what each line does.\n",
    "# see code above\n",
    "\n",
    "# 2. Read each one backward or out loud to find your errors.\n",
    "# After reading each one backward no error found.\n",
    "\n",
    "\n"
   ]
  }
 ],
 "metadata": {
  "kernelspec": {
   "display_name": "Python 3",
   "language": "python",
   "name": "python3"
  },
  "language_info": {
   "codemirror_mode": {
    "name": "ipython",
    "version": 3
   },
   "file_extension": ".py",
   "mimetype": "text/x-python",
   "name": "python",
   "nbconvert_exporter": "python",
   "pygments_lexer": "ipython3",
   "version": "3.6.4"
  }
 },
 "nbformat": 4,
 "nbformat_minor": 2
}
